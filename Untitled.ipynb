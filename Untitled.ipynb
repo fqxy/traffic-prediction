{
 "cells": [
  {
   "cell_type": "code",
   "execution_count": 2,
   "metadata": {},
   "outputs": [],
   "source": [
    "import pandas as pd\n",
    "import numpy as np\n",
    "from sklearn import preprocessing"
   ]
  },
  {
   "cell_type": "code",
   "execution_count": 3,
   "metadata": {},
   "outputs": [],
   "source": [
    "vehicles_by_time = np.load('data_npy/vehicles_by_time_no_0.npy')"
   ]
  },
  {
   "cell_type": "code",
   "execution_count": 5,
   "metadata": {},
   "outputs": [
    {
     "data": {
      "text/plain": [
       "array([[350., 314., 261., ..., 207., 178., 222.],\n",
       "       [394., 353., 337., ..., 254., 203., 239.],\n",
       "       [383., 337., 303., ..., 195., 171., 195.],\n",
       "       ...,\n",
       "       [432., 363., 316., ..., 232., 208., 202.],\n",
       "       [450., 390., 327., ..., 229., 230., 199.],\n",
       "       [399., 344., 309., ..., 239., 180., 210.]])"
      ]
     },
     "execution_count": 5,
     "metadata": {},
     "output_type": "execute_result"
    }
   ],
   "source": [
    "vehicles_by_time[:, 0:8]"
   ]
  },
  {
   "cell_type": "code",
   "execution_count": 6,
   "metadata": {},
   "outputs": [],
   "source": [
    "vehicles_by_station = vehicles_by_time.transpose()"
   ]
  },
  {
   "cell_type": "code",
   "execution_count": 8,
   "metadata": {},
   "outputs": [
    {
     "data": {
      "text/plain": [
       "array([[350., 394., 383., ..., 432., 450., 399.],\n",
       "       [314., 353., 337., ..., 363., 390., 344.],\n",
       "       [261., 337., 303., ..., 316., 327., 309.],\n",
       "       ...,\n",
       "       [207., 254., 195., ..., 232., 229., 239.],\n",
       "       [178., 203., 171., ..., 208., 230., 180.],\n",
       "       [222., 239., 195., ..., 202., 199., 210.]])"
      ]
     },
     "execution_count": 8,
     "metadata": {},
     "output_type": "execute_result"
    }
   ],
   "source": [
    "vehicles_by_station[0:8, :]"
   ]
  },
  {
   "cell_type": "code",
   "execution_count": 10,
   "metadata": {},
   "outputs": [],
   "source": [
    "for vehicles_row in vehicles_by_station:\n",
    "    for idx, val in enumerate(vehicles_row):\n",
    "        if val == 5:\n",
    "            val = vehicles_row[idx-1]"
   ]
  },
  {
   "cell_type": "code",
   "execution_count": null,
   "metadata": {},
   "outputs": [],
   "source": []
  }
 ],
 "metadata": {
  "kernelspec": {
   "display_name": "Python [conda env:tf]",
   "language": "python",
   "name": "conda-env-tf-py"
  },
  "language_info": {
   "codemirror_mode": {
    "name": "ipython",
    "version": 3
   },
   "file_extension": ".py",
   "mimetype": "text/x-python",
   "name": "python",
   "nbconvert_exporter": "python",
   "pygments_lexer": "ipython3",
   "version": "3.6.2"
  }
 },
 "nbformat": 4,
 "nbformat_minor": 2
}
